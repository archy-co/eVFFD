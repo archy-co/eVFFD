{
 "cells": [
  {
   "cell_type": "code",
   "execution_count": null,
   "metadata": {
    "vscode": {
     "languageId": "plaintext"
    }
   },
   "outputs": [],
   "source": [
    "!python3 train.py --dataroot ./datasets/maps_pix2pix/ --name map2sat_pureUNET --model pureUNET --direction BtoA --display_id -1"
   ]
  },
  {
   "cell_type": "code",
   "execution_count": null,
   "metadata": {
    "vscode": {
     "languageId": "plaintext"
    }
   },
   "outputs": [],
   "source": [
    "python3 test.py --dataroot ./datasets/maps_pix2pix --direction BtoA --model pureUNET --name map2sat_pureUNET --use_wandb"
   ]
  }
 ],
 "metadata": {
  "language_info": {
   "name": "python"
  }
 },
 "nbformat": 4,
 "nbformat_minor": 2
}
