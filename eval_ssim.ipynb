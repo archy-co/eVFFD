{
 "cells": [
  {
   "cell_type": "code",
   "execution_count": 49,
   "metadata": {},
   "outputs": [],
   "source": [
    "import numpy as np\n",
    "import cv2\n",
    "import os\n",
    "from skimage.metrics import structural_similarity as ssim\n",
    "from PIL import Image"
   ]
  },
  {
   "cell_type": "code",
   "execution_count": 50,
   "metadata": {},
   "outputs": [],
   "source": [
    "def calculate_ssim(imageA, imageB):\n",
    "    \"\"\"\n",
    "    Compute the Structural Similarity Index (SSIM) between two images.\n",
    "    \"\"\"\n",
    "    return ssim(imageA, imageB, data_range=imageB.max() - imageB.min())\n",
    "\n",
    "def compute_average_ssim(real_images_grayscale, generated_images_grayscale):\n",
    "    total_score = 0\n",
    "    cnt = 0\n",
    "\n",
    "    for real_image, generated_image in zip(real_images_grayscale, generated_images_grayscale):\n",
    "        if real_image.shape != generated_image.shape:\n",
    "            print(\"Error: Images must have the same dimensions.\")\n",
    "        else:\n",
    "            total_score += calculate_ssim(real_image, generated_image)\n",
    "            cnt += 1\n",
    "\n",
    "    return total_score / cnt\n",
    "\n",
    "def list_all_img_files(folder_path, real_postfix=\"_real_B.png\", fake_postfix=\"_fake_B.png\"):\n",
    "    real_image_paths = []\n",
    "    generated_image_paths = []\n",
    "    \n",
    "    for file in os.listdir(folder_path):\n",
    "        if file.endswith(real_postfix):\n",
    "            real_image_paths.append(os.path.join(folder_path, file))\n",
    "        elif file.endswith(fake_postfix):\n",
    "            generated_image_paths.append(os.path.join(folder_path, file))\n",
    "    \n",
    "    return sorted(real_image_paths), sorted(generated_image_paths)"
   ]
  },
  {
   "cell_type": "markdown",
   "metadata": {},
   "source": [
    "## Map2sat"
   ]
  },
  {
   "cell_type": "code",
   "execution_count": 51,
   "metadata": {},
   "outputs": [
    {
     "name": "stdout",
     "output_type": "stream",
     "text": [
      "average score: 0.129500970879139\n"
     ]
    }
   ],
   "source": [
    "result_path = \"./results/map2sat_pretrained_pix2pix/test_latest/images\"\n",
    "\n",
    "real_image_paths, generated_image_paths = list_all_img_files(result_path, real_postfix=\"_real_B.png\", fake_postfix=\"_fake_B.png\")\n",
    "\n",
    "real_images_grayscale = [cv2.imread(image_path, cv2.IMREAD_GRAYSCALE) for image_path in real_image_paths]\n",
    "generated_images_grayscale = [cv2.imread(image_path, cv2.IMREAD_GRAYSCALE) for image_path in generated_image_paths]\n",
    "\n",
    "average_ssim = compute_average_ssim(real_images_grayscale, generated_images_grayscale)\n",
    "print(f\"average score: {average_ssim}\")"
   ]
  },
  {
   "cell_type": "code",
   "execution_count": 52,
   "metadata": {},
   "outputs": [
    {
     "name": "stdout",
     "output_type": "stream",
     "text": [
      "average score: 0.44741185849311466\n"
     ]
    }
   ],
   "source": [
    "result_path = \"./results/map2sat_pretrained_CycleGAN/test_latest/images\"\n",
    "\n",
    "real_image_paths, generated_image_paths = list_all_img_files(result_path, real_postfix=\"_A_real.png\", fake_postfix=\"_A_fake.png\")\n",
    "\n",
    "real_images_grayscale = [cv2.imread(image_path, cv2.IMREAD_GRAYSCALE) for image_path in real_image_paths]\n",
    "generated_images_grayscale = [cv2.imread(image_path, cv2.IMREAD_GRAYSCALE) for image_path in generated_image_paths]\n",
    "\n",
    "average_ssim = compute_average_ssim(real_images_grayscale, generated_images_grayscale)\n",
    "print(f\"average score: {average_ssim}\")"
   ]
  },
  {
   "cell_type": "code",
   "execution_count": 53,
   "metadata": {},
   "outputs": [
    {
     "name": "stdout",
     "output_type": "stream",
     "text": [
      "average score: 0.23078319080767526\n"
     ]
    }
   ],
   "source": [
    "result_path = \"./results/map2sat_pureUNET/test_latest/images\"\n",
    "\n",
    "real_image_paths, generated_image_paths = list_all_img_files(result_path, real_postfix=\"_real_B.png\", fake_postfix=\"_fake_B.png\")\n",
    "\n",
    "real_images_grayscale = [cv2.imread(image_path, cv2.IMREAD_GRAYSCALE) for image_path in real_image_paths]\n",
    "generated_images_grayscale = [cv2.imread(image_path, cv2.IMREAD_GRAYSCALE) for image_path in generated_image_paths]\n",
    "\n",
    "average_ssim = compute_average_ssim(real_images_grayscale, generated_images_grayscale)\n",
    "print(f\"average score: {average_ssim}\")"
   ]
  },
  {
   "cell_type": "markdown",
   "metadata": {},
   "source": [
    "## facades_label2photo"
   ]
  },
  {
   "cell_type": "code",
   "execution_count": 54,
   "metadata": {},
   "outputs": [
    {
     "name": "stdout",
     "output_type": "stream",
     "text": [
      "average score: 0.23663660106001547\n"
     ]
    }
   ],
   "source": [
    "result_path = \"./results/facades_label2photo_pretrained_pix2pix/test_latest/images\"\n",
    "\n",
    "real_image_paths, generated_image_paths = list_all_img_files(result_path, real_postfix=\"_real_B.png\", fake_postfix=\"_fake_B.png\")\n",
    "\n",
    "real_images_grayscale = [cv2.imread(image_path, cv2.IMREAD_GRAYSCALE) for image_path in real_image_paths]\n",
    "generated_images_grayscale = [cv2.imread(image_path, cv2.IMREAD_GRAYSCALE) for image_path in generated_image_paths]\n",
    "\n",
    "average_ssim = compute_average_ssim(real_images_grayscale, generated_images_grayscale)\n",
    "print(f\"average score: {average_ssim}\")"
   ]
  },
  {
   "cell_type": "code",
   "execution_count": 55,
   "metadata": {},
   "outputs": [
    {
     "name": "stdout",
     "output_type": "stream",
     "text": [
      "average score: -0.043033623214956816\n"
     ]
    }
   ],
   "source": [
    "result_path = \"./results/facades_label2photo_pretrained_CycleGAN/test_latest/images\"\n",
    "\n",
    "real_image_paths, generated_image_paths = list_all_img_files(result_path, real_postfix=\"_real.png\", fake_postfix=\"_fake.png\")\n",
    "\n",
    "real_images_grayscale = [cv2.imread(image_path, cv2.IMREAD_GRAYSCALE) for image_path in real_image_paths]\n",
    "generated_images_grayscale = [cv2.imread(image_path, cv2.IMREAD_GRAYSCALE) for image_path in generated_image_paths]\n",
    "\n",
    "average_ssim = compute_average_ssim(real_images_grayscale, generated_images_grayscale)\n",
    "print(f\"average score: {average_ssim}\")"
   ]
  },
  {
   "cell_type": "code",
   "execution_count": 59,
   "metadata": {},
   "outputs": [
    {
     "name": "stdout",
     "output_type": "stream",
     "text": [
      "average score: 0.2810283101840506\n"
     ]
    }
   ],
   "source": [
    "result_path = \"./results/facades_label2photo_pureUNET/test_latest/images\"\n",
    "\n",
    "real_image_paths, generated_image_paths = list_all_img_files(result_path, real_postfix=\"_real_B.png\", fake_postfix=\"_fake_B.png\")\n",
    "\n",
    "real_images_grayscale = [cv2.imread(image_path, cv2.IMREAD_GRAYSCALE) for image_path in real_image_paths]\n",
    "generated_images_grayscale = [cv2.imread(image_path, cv2.IMREAD_GRAYSCALE) for image_path in generated_image_paths]\n",
    "\n",
    "average_ssim = compute_average_ssim(real_images_grayscale, generated_images_grayscale)\n",
    "print(f\"average score: {average_ssim}\")"
   ]
  },
  {
   "cell_type": "markdown",
   "metadata": {},
   "source": [
    "## Windtunnel"
   ]
  },
  {
   "cell_type": "code",
   "execution_count": 56,
   "metadata": {},
   "outputs": [
    {
     "name": "stdout",
     "output_type": "stream",
     "text": [
      "average score: 0.7856888216541928\n"
     ]
    }
   ],
   "source": [
    "result_path = \"./results/windtunnel_pix2pix/test_latest/images\"\n",
    "\n",
    "real_image_paths, generated_image_paths = list_all_img_files(result_path, real_postfix=\"_real_B.png\", fake_postfix=\"_fake_B.png\")\n",
    "\n",
    "real_images_grayscale = [cv2.imread(image_path, cv2.IMREAD_GRAYSCALE) for image_path in real_image_paths]\n",
    "generated_images_grayscale = [cv2.imread(image_path, cv2.IMREAD_GRAYSCALE) for image_path in generated_image_paths]\n",
    "\n",
    "average_ssim = compute_average_ssim(real_images_grayscale, generated_images_grayscale)\n",
    "print(f\"average score: {average_ssim}\")"
   ]
  },
  {
   "cell_type": "code",
   "execution_count": 57,
   "metadata": {},
   "outputs": [
    {
     "name": "stdout",
     "output_type": "stream",
     "text": [
      "average score: 0.5910551697542062\n"
     ]
    }
   ],
   "source": [
    "result_path = \"./results/windtunnel_cycleGAN/test_latest/images\"\n",
    "\n",
    "real_image_paths, generated_image_paths = list_all_img_files(result_path, real_postfix=\"_real_A.png\", fake_postfix=\"_fake_A.png\")\n",
    "\n",
    "real_images_grayscale = [cv2.imread(image_path, cv2.IMREAD_GRAYSCALE) for image_path in real_image_paths]\n",
    "generated_images_grayscale = [cv2.imread(image_path, cv2.IMREAD_GRAYSCALE) for image_path in generated_image_paths]\n",
    "\n",
    "average_ssim = compute_average_ssim(real_images_grayscale, generated_images_grayscale)\n",
    "print(f\"average score: {average_ssim}\")"
   ]
  },
  {
   "cell_type": "code",
   "execution_count": 58,
   "metadata": {},
   "outputs": [
    {
     "name": "stdout",
     "output_type": "stream",
     "text": [
      "average score: 0.7840752657467338\n"
     ]
    }
   ],
   "source": [
    "result_path = \"./results/windtunnel_pureUNET/test_latest/images\"\n",
    "\n",
    "real_image_paths, generated_image_paths = list_all_img_files(result_path, real_postfix=\"_real_A.png\", fake_postfix=\"_fake_B.png\")\n",
    "\n",
    "real_images_grayscale = [cv2.imread(image_path, cv2.IMREAD_GRAYSCALE) for image_path in real_image_paths]\n",
    "generated_images_grayscale = [cv2.imread(image_path, cv2.IMREAD_GRAYSCALE) for image_path in generated_image_paths]\n",
    "\n",
    "average_ssim = compute_average_ssim(real_images_grayscale, generated_images_grayscale)\n",
    "print(f\"average score: {average_ssim}\")"
   ]
  }
 ],
 "metadata": {
  "kernelspec": {
   "display_name": "venv",
   "language": "python",
   "name": "python3"
  },
  "language_info": {
   "codemirror_mode": {
    "name": "ipython",
    "version": 3
   },
   "file_extension": ".py",
   "mimetype": "text/x-python",
   "name": "python",
   "nbconvert_exporter": "python",
   "pygments_lexer": "ipython3",
   "version": "3.9.6"
  }
 },
 "nbformat": 4,
 "nbformat_minor": 2
}
